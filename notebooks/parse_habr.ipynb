{
 "cells": [
  {
   "cell_type": "code",
   "execution_count": 1,
   "metadata": {},
   "outputs": [],
   "source": [
    "from pathlib import Path\n",
    "\n",
    "import pandas as pd\n",
    "import matplotlib.pyplot as plt\n",
    "import seaborn as sns\n",
    "from wordcloud import WordCloud\n",
    "\n",
    "from parsing.habr import HabrParser"
   ]
  },
  {
   "cell_type": "code",
   "execution_count": 2,
   "metadata": {},
   "outputs": [
    {
     "name": "stdout",
     "output_type": "stream",
     "text": [
      "CPU times: user 238 ms, sys: 7.5 ms, total: 246 ms\n",
      "Wall time: 540 ms\n"
     ]
    },
    {
     "data": {
      "text/plain": [
       "'Security Week 2416: уязвимость в серверных материнских платах Intel, Lenovo и Supermicro'"
      ]
     },
     "execution_count": 2,
     "metadata": {},
     "output_type": "execute_result"
    }
   ],
   "source": [
    "%%time\n",
    "post = HabrPost(post_id=807711)\n",
    "post.title"
   ]
  },
  {
   "cell_type": "code",
   "execution_count": 5,
   "metadata": {},
   "outputs": [
    {
     "name": "stderr",
     "output_type": "stream",
     "text": [
      "  9%|▉         | 920/10000 [01:24<29:51,  5.07it/s]"
     ]
    },
    {
     "name": "stdout",
     "output_type": "stream",
     "text": [
      "Произошла ошибка для id = 806793 'NoneType' object has no attribute 'text'\n"
     ]
    },
    {
     "name": "stderr",
     "output_type": "stream",
     "text": [
      " 44%|████▍     | 4400/10000 [07:09<11:25,  8.17it/s]  "
     ]
    },
    {
     "name": "stdout",
     "output_type": "stream",
     "text": [
      "Произошла ошибка для id = 803313 'NoneType' object has no attribute 'text'\n"
     ]
    },
    {
     "name": "stderr",
     "output_type": "stream",
     "text": [
      " 54%|█████▍    | 5425/10000 [08:49<07:15, 10.51it/s]"
     ]
    },
    {
     "name": "stdout",
     "output_type": "stream",
     "text": [
      "Произошла ошибка для id = 802211 'NoneType' object has no attribute 'text'\n"
     ]
    },
    {
     "name": "stderr",
     "output_type": "stream",
     "text": [
      " 56%|█████▋    | 5647/10000 [09:14<33:45,  2.15it/s]"
     ]
    },
    {
     "name": "stdout",
     "output_type": "stream",
     "text": [
      "Произошла ошибка для id = 802017 'NoneType' object has no attribute 'text'\n"
     ]
    },
    {
     "name": "stderr",
     "output_type": "stream",
     "text": [
      " 80%|███████▉  | 7957/10000 [12:43<02:48, 12.09it/s]"
     ]
    },
    {
     "name": "stdout",
     "output_type": "stream",
     "text": [
      "451\n",
      "Произошла ошибка для id = 799751 'HabrPost' object has no attribute 'soup'\n"
     ]
    },
    {
     "name": "stderr",
     "output_type": "stream",
     "text": [
      " 83%|████████▎ | 8271/10000 [13:11<02:41, 10.74it/s]"
     ]
    },
    {
     "name": "stdout",
     "output_type": "stream",
     "text": [
      "Произошла ошибка для id = 799441 'NoneType' object has no attribute 'text'\n"
     ]
    },
    {
     "name": "stderr",
     "output_type": "stream",
     "text": [
      " 84%|████████▍ | 8445/10000 [13:27<02:04, 12.48it/s]"
     ]
    },
    {
     "name": "stdout",
     "output_type": "stream",
     "text": [
      "Произошла ошибка для id = 799275 'NoneType' object has no attribute 'text'\n"
     ]
    },
    {
     "name": "stderr",
     "output_type": "stream",
     "text": [
      "100%|██████████| 10000/10000 [15:50<00:00, 10.52it/s]\n"
     ]
    }
   ],
   "source": [
    "res = HabrParser.parse_posts(10000, n_threads=10)"
   ]
  },
  {
   "cell_type": "code",
   "execution_count": 6,
   "metadata": {},
   "outputs": [
    {
     "data": {
      "text/html": [
       "<div>\n",
       "<style scoped>\n",
       "    .dataframe tbody tr th:only-of-type {\n",
       "        vertical-align: middle;\n",
       "    }\n",
       "\n",
       "    .dataframe tbody tr th {\n",
       "        vertical-align: top;\n",
       "    }\n",
       "\n",
       "    .dataframe thead th {\n",
       "        text-align: right;\n",
       "    }\n",
       "</style>\n",
       "<table border=\"1\" class=\"dataframe\">\n",
       "  <thead>\n",
       "    <tr style=\"text-align: right;\">\n",
       "      <th></th>\n",
       "      <th>post_id</th>\n",
       "      <th>author</th>\n",
       "      <th>title</th>\n",
       "      <th>tags</th>\n",
       "      <th>text</th>\n",
       "    </tr>\n",
       "  </thead>\n",
       "  <tbody>\n",
       "    <tr>\n",
       "      <th>0</th>\n",
       "      <td>807711</td>\n",
       "      <td>Kaspersky_Lab</td>\n",
       "      <td>Security Week 2416: уязвимость в серверных мат...</td>\n",
       "      <td>[Блог компании «Лаборатория Касперского», Инфо...</td>\n",
       "      <td>На прошлой неделе исследователи компании Binar...</td>\n",
       "    </tr>\n",
       "    <tr>\n",
       "      <th>1</th>\n",
       "      <td>807709</td>\n",
       "      <td>markshevchenko</td>\n",
       "      <td>Вычислительные выражения: Подробнее про типы-о...</td>\n",
       "      <td>[.NET, Функциональное программирование, F#]</td>\n",
       "      <td>В предыдущем посте мы познакомились с концепци...</td>\n",
       "    </tr>\n",
       "    <tr>\n",
       "      <th>2</th>\n",
       "      <td>807707</td>\n",
       "      <td>ru_vds</td>\n",
       "      <td>Угадай местоположение льдины с арктическим ЦОД...</td>\n",
       "      <td>[Блог компании RUVDS.com, Хостинг, Системное а...</td>\n",
       "      <td>Как вы наверняка знаете, 12 апреля RUVDS успеш...</td>\n",
       "    </tr>\n",
       "    <tr>\n",
       "      <th>3</th>\n",
       "      <td>807705</td>\n",
       "      <td>shaddyk</td>\n",
       "      <td>Запустили проект с НСИС по повышению качества ...</td>\n",
       "      <td>[Блог компании HFLabs, Открытые данные, IT-ком...</td>\n",
       "      <td>НСИС — оператор единой автоматизированной инфо...</td>\n",
       "    </tr>\n",
       "    <tr>\n",
       "      <th>4</th>\n",
       "      <td>807703</td>\n",
       "      <td>VokaMut</td>\n",
       "      <td>Тестируем AI на создании прикладного приложения</td>\n",
       "      <td>[Веб-разработка, Искусственный интеллект, Natu...</td>\n",
       "      <td>Всем привет, я Григорий Тумаков, CTO в Моризо ...</td>\n",
       "    </tr>\n",
       "    <tr>\n",
       "      <th>...</th>\n",
       "      <td>...</td>\n",
       "      <td>...</td>\n",
       "      <td>...</td>\n",
       "      <td>...</td>\n",
       "      <td>...</td>\n",
       "    </tr>\n",
       "    <tr>\n",
       "      <th>4371</th>\n",
       "      <td>797723</td>\n",
       "      <td>Squirrelfm</td>\n",
       "      <td>Анатомия эффективного собеседования. Что делат...</td>\n",
       "      <td>[Блог компании Raft, Управление персоналом, Ка...</td>\n",
       "      <td>Я провел много собеседований за свою карьеру, ...</td>\n",
       "    </tr>\n",
       "    <tr>\n",
       "      <th>4372</th>\n",
       "      <td>797721</td>\n",
       "      <td>maybe_elf</td>\n",
       "      <td>None</td>\n",
       "      <td>[Законодательство в IT, Искусственный интеллек...</td>\n",
       "      <td>В OpenAI рассказали о мотивах Илона Маска при ...</td>\n",
       "    </tr>\n",
       "    <tr>\n",
       "      <th>4373</th>\n",
       "      <td>797719</td>\n",
       "      <td>ar4w</td>\n",
       "      <td>SD-Access без DNAC и ISE</td>\n",
       "      <td>[Информационная безопасность, IT-инфраструктур...</td>\n",
       "      <td>В 2019 мы закупили комплект оборудования и лиц...</td>\n",
       "    </tr>\n",
       "    <tr>\n",
       "      <th>4374</th>\n",
       "      <td>797715</td>\n",
       "      <td>maybe_elf</td>\n",
       "      <td>Meta* удалит все учётные записи Oculus в конце...</td>\n",
       "      <td>[Управление сообществом, Разработка под AR и V...</td>\n",
       "      <td>Meta* в электронной рассылке сообщила пользова...</td>\n",
       "    </tr>\n",
       "    <tr>\n",
       "      <th>4375</th>\n",
       "      <td>797713</td>\n",
       "      <td>maybe_elf</td>\n",
       "      <td>Microsoft готовит Copilot для OneDrive</td>\n",
       "      <td>[Облачные сервисы, Искусственный интеллект]</td>\n",
       "      <td>Microsoft объявила о подготовке Copilot для On...</td>\n",
       "    </tr>\n",
       "  </tbody>\n",
       "</table>\n",
       "<p>4376 rows × 5 columns</p>\n",
       "</div>"
      ],
      "text/plain": [
       "      post_id          author  \\\n",
       "0      807711   Kaspersky_Lab   \n",
       "1      807709  markshevchenko   \n",
       "2      807707          ru_vds   \n",
       "3      807705         shaddyk   \n",
       "4      807703         VokaMut   \n",
       "...       ...             ...   \n",
       "4371   797723      Squirrelfm   \n",
       "4372   797721       maybe_elf   \n",
       "4373   797719            ar4w   \n",
       "4374   797715       maybe_elf   \n",
       "4375   797713       maybe_elf   \n",
       "\n",
       "                                                  title  \\\n",
       "0     Security Week 2416: уязвимость в серверных мат...   \n",
       "1     Вычислительные выражения: Подробнее про типы-о...   \n",
       "2     Угадай местоположение льдины с арктическим ЦОД...   \n",
       "3     Запустили проект с НСИС по повышению качества ...   \n",
       "4       Тестируем AI на создании прикладного приложения   \n",
       "...                                                 ...   \n",
       "4371  Анатомия эффективного собеседования. Что делат...   \n",
       "4372                                               None   \n",
       "4373                           SD-Access без DNAC и ISE   \n",
       "4374  Meta* удалит все учётные записи Oculus в конце...   \n",
       "4375             Microsoft готовит Copilot для OneDrive   \n",
       "\n",
       "                                                   tags  \\\n",
       "0     [Блог компании «Лаборатория Касперского», Инфо...   \n",
       "1           [.NET, Функциональное программирование, F#]   \n",
       "2     [Блог компании RUVDS.com, Хостинг, Системное а...   \n",
       "3     [Блог компании HFLabs, Открытые данные, IT-ком...   \n",
       "4     [Веб-разработка, Искусственный интеллект, Natu...   \n",
       "...                                                 ...   \n",
       "4371  [Блог компании Raft, Управление персоналом, Ка...   \n",
       "4372  [Законодательство в IT, Искусственный интеллек...   \n",
       "4373  [Информационная безопасность, IT-инфраструктур...   \n",
       "4374  [Управление сообществом, Разработка под AR и V...   \n",
       "4375        [Облачные сервисы, Искусственный интеллект]   \n",
       "\n",
       "                                                   text  \n",
       "0     На прошлой неделе исследователи компании Binar...  \n",
       "1     В предыдущем посте мы познакомились с концепци...  \n",
       "2     Как вы наверняка знаете, 12 апреля RUVDS успеш...  \n",
       "3     НСИС — оператор единой автоматизированной инфо...  \n",
       "4     Всем привет, я Григорий Тумаков, CTO в Моризо ...  \n",
       "...                                                 ...  \n",
       "4371  Я провел много собеседований за свою карьеру, ...  \n",
       "4372  В OpenAI рассказали о мотивах Илона Маска при ...  \n",
       "4373  В 2019 мы закупили комплект оборудования и лиц...  \n",
       "4374  Meta* в электронной рассылке сообщила пользова...  \n",
       "4375  Microsoft объявила о подготовке Copilot для On...  \n",
       "\n",
       "[4376 rows x 5 columns]"
      ]
     },
     "execution_count": 6,
     "metadata": {},
     "output_type": "execute_result"
    }
   ],
   "source": [
    "df = pd.DataFrame(res)\n",
    "df"
   ]
  },
  {
   "cell_type": "code",
   "execution_count": 7,
   "metadata": {},
   "outputs": [],
   "source": [
    "df.to_parquet(Path(\"../data/habr_posts_dataset.parquet\"))"
   ]
  },
  {
   "cell_type": "markdown",
   "metadata": {},
   "source": [
    "## Small EDA"
   ]
  },
  {
   "cell_type": "code",
   "execution_count": 2,
   "metadata": {},
   "outputs": [],
   "source": [
    "df = pd.read_parquet(Path(\"../data/habr_posts_dataset.parquet\"))"
   ]
  },
  {
   "cell_type": "code",
   "execution_count": 3,
   "metadata": {},
   "outputs": [
    {
     "data": {
      "image/png": "[encoded data removed]",
      "text/plain": [
       "<Figure size 1500x500 with 1 Axes>"
      ]
     },
     "metadata": {},
     "output_type": "display_data"
    }
   ],
   "source": [
    "fig = plt.figure(figsize=(15, 5))\n",
    "df[\"num_characters\"] = df[\"text\"].str.len()\n",
    "\n",
    "sns.histplot(data=df, x=\"num_characters\")\n",
    "plt.title(\"Number of Characters\")\n",
    "plt.show()"
   ]
  },
  {
   "cell_type": "code",
   "execution_count": 4,
   "metadata": {},
   "outputs": [
    {
     "data": {
      "image/png": "[encoded data removed]",
      "text/plain": [
       "<Figure size 1500x500 with 1 Axes>"
      ]
     },
     "metadata": {},
     "output_type": "display_data"
    }
   ],
   "source": [
    "fig = plt.figure(figsize=(15, 5))\n",
    "df[\"num_words\"] = df[\"text\"].apply(\n",
    "    lambda x: len(str(x).split()))\n",
    "sns.histplot(data=df, x=\"num_words\")\n",
    "plt.title(\"Number of Words\")\n",
    "plt.show()"
   ]
  },
  {
   "cell_type": "code",
   "execution_count": null,
   "metadata": {},
   "outputs": [],
   "source": []
  }
 ],
 "metadata": {
  "kernelspec": {
   "display_name": ".venv",
   "language": "python",
   "name": "python3"
  },
  "language_info": {
   "codemirror_mode": {
    "name": "ipython",
    "version": 3
   },
   "file_extension": ".py",
   "mimetype": "text/x-python",
   "name": "python",
   "nbconvert_exporter": "python",
   "pygments_lexer": "ipython3",
   "version": "3.10.12"
  }
 },
 "nbformat": 4,
 "nbformat_minor": 2
}
